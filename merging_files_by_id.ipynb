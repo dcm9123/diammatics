{
 "cells": [
  {
   "cell_type": "code",
   "execution_count": 3,
   "id": "10355f69",
   "metadata": {},
   "outputs": [],
   "source": [
    "import pandas as pd\n",
    "import os"
   ]
  },
  {
   "cell_type": "code",
   "execution_count": 9,
   "id": "cb610af6",
   "metadata": {},
   "outputs": [],
   "source": [
    "file_1 = pd.read_csv(\"all_gf_metadata_subset.csv\")\n",
    "file_2 = pd.read_csv(\"subset_w9w10_metadata.txt\", sep='\\t')"
   ]
  },
  {
   "cell_type": "code",
   "execution_count": 20,
   "id": "5acd80f2",
   "metadata": {},
   "outputs": [],
   "source": [
    "merged_file = pd.merge(file_1,file_2, left_on=\"TubeLabel\",right_on=\"Subset_sequence_ID\", how=\"right\")"
   ]
  },
  {
   "cell_type": "code",
   "execution_count": 22,
   "id": "e77f4b48",
   "metadata": {},
   "outputs": [],
   "source": [
    "merged_file.to_csv(\"merged_w9w10_subset_fixed.csv\")"
   ]
  },
  {
   "cell_type": "code",
   "execution_count": null,
   "id": "85b5d9ec",
   "metadata": {},
   "outputs": [],
   "source": []
  }
 ],
 "metadata": {
  "kernelspec": {
   "display_name": "Python 3 (ipykernel)",
   "language": "python",
   "name": "python3"
  },
  "language_info": {
   "codemirror_mode": {
    "name": "ipython",
    "version": 3
   },
   "file_extension": ".py",
   "mimetype": "text/x-python",
   "name": "python",
   "nbconvert_exporter": "python",
   "pygments_lexer": "ipython3",
   "version": "3.11.5"
  }
 },
 "nbformat": 4,
 "nbformat_minor": 5
}
