{
 "cells": [
  {
   "cell_type": "code",
   "execution_count": 2,
   "id": "10cfa22a",
   "metadata": {},
   "outputs": [],
   "source": [
    "import pandas as pd"
   ]
  },
  {
   "cell_type": "code",
   "execution_count": 13,
   "id": "16a78a88",
   "metadata": {},
   "outputs": [],
   "source": [
    "def generate_files(csv_file,column,fasta_file):\n",
    "    df = pd.read_csv(csv_file)\n",
    "    with open(fasta_file, 'w') as fasta:\n",
    "        for index, value in df[column].iteritems():\n",
    "            fasta.write(f\">Sequence_{index+1}\\n\")\n",
    "            fasta.write(f\"{value}\\n\")"
   ]
  },
  {
   "cell_type": "code",
   "execution_count": 16,
   "id": "9d03321a",
   "metadata": {},
   "outputs": [],
   "source": [
    "csv_file = \"/Users/danielcm/Desktop/Sycuro/Projects/Diabetes/epitope_table_export_1716584901.csv\"\n",
    "column = \"Name\"\n",
    "fasta_file = \"/Users/danielcm/Desktop/Sycuro/Projects/Diabetes/scripts/epitopes_mouse.fasta\""
   ]
  },
  {
   "cell_type": "code",
   "execution_count": 17,
   "id": "a7951f0c",
   "metadata": {},
   "outputs": [],
   "source": [
    "generate_files(csv_file, column, fasta_file)"
   ]
  }
 ],
 "metadata": {
  "kernelspec": {
   "display_name": "Python 3 (ipykernel)",
   "language": "python",
   "name": "python3"
  },
  "language_info": {
   "codemirror_mode": {
    "name": "ipython",
    "version": 3
   },
   "file_extension": ".py",
   "mimetype": "text/x-python",
   "name": "python",
   "nbconvert_exporter": "python",
   "pygments_lexer": "ipython3",
   "version": "3.11.5"
  }
 },
 "nbformat": 4,
 "nbformat_minor": 5
}
