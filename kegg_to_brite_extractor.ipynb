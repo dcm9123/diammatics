{
 "cells": [
  {
   "cell_type": "code",
   "execution_count": 190,
   "id": "81045698",
   "metadata": {},
   "outputs": [
    {
     "data": {
      "text/plain": [
       "\"\\nThis script was made with the purpose of identifying Kegg Brite Hierarchies from a list of 'features' found in \\nthe maaslin2 output generated from PICRUSt2 data. It reads the KOs from the 'features' column and it searches for\\nits Brite hierarchy (9 different ones, level A), following a dataframe output of the results. It requires the\\nuser to provide a name and path for the input .tsv file, and a name and path for the output file.\\n\""
      ]
     },
     "execution_count": 190,
     "metadata": {},
     "output_type": "execute_result"
    }
   ],
   "source": [
    "#Author: Daniel Castaneda Mogollon, PhD\n",
    "#Date: 08/23/2024\n",
    "\n",
    "'''\n",
    "This script was made with the purpose of identifying Kegg Brite Hierarchies from a list of 'features' found in \n",
    "the maaslin2 output generated from PICRUSt2 data. It reads the KOs from the 'features' column and it searches for\n",
    "its Brite hierarchy (9 different ones, level A), following a dataframe output of the results. It requires the\n",
    "user to provide a name and path for the input .tsv file, and a name and path for the output file.\n",
    "'''\n"
   ]
  },
  {
   "cell_type": "code",
   "execution_count": 183,
   "id": "67aa468d",
   "metadata": {},
   "outputs": [],
   "source": [
    "import requests\n",
    "import pandas as pd"
   ]
  },
  {
   "cell_type": "code",
   "execution_count": 184,
   "id": "8c3f5f9c",
   "metadata": {},
   "outputs": [],
   "source": [
    "def get_ko_brite_hierarchy(ko_list, input_file):\n",
    "    dataframe = pd.read_csv(input_file, sep='\\t')\n",
    "    for ko_number in ko_list:\n",
    "        url = f\"https://rest.kegg.jp/get/ko:{ko_number}\"\n",
    "        response = requests.get(url)\n",
    "        data = response.text\n",
    "        lines = data.splitlines()\n",
    "        for line in lines:\n",
    "            if \"09100 Metabolism\" in line:\n",
    "                dataframe.loc[dataframe['feature'] == ko_number, 'Brite_Metabolism'] = \"Yes\"\n",
    "            elif \"09120 Genetic\" in line:\n",
    "                dataframe.loc[dataframe['feature'] == ko_number, 'Brite_Genetic_Information_Processing'] = \"Yes\"\n",
    "            elif \"09130 Environmental\" in line:\n",
    "                dataframe.loc[dataframe['feature'] == ko_number, 'Brite_Environmental_Information_Processing'] = \"Yes\"\n",
    "            elif \"09140 Cellular\" in line:\n",
    "                dataframe.loc[dataframe['feature'] == ko_number, 'Brite_Cellular_Processes'] = \"Yes\"\n",
    "            elif \"09150 Organismal\" in line:\n",
    "                dataframe.loc[dataframe['feature'] == ko_number, 'Brite_Organismal_Systems'] = \"Yes\"\n",
    "            elif \"09160 Human\" in line:\n",
    "                dataframe.loc[dataframe['feature'] == ko_number, 'Brite_Human_Diseases'] = \"Yes\"\n",
    "            elif \"09170 Drug\" in line:\n",
    "                dataframe.loc[dataframe['feature'] == ko_number, 'Brite_Drug_Development'] = \"Yes\"\n",
    "            elif \"09180 Brite\" in line:\n",
    "                dataframe.loc[dataframe['feature'] == ko_number, 'Brite_Hierarchy'] = \"Yes\"\n",
    "            elif \"09190 Not\" in line:\n",
    "                dataframe.loc[dataframe['feature'] == ko_number, 'Brite_Not_Included'] = \"Yes\"                \n",
    "    return(dataframe)"
   ]
  },
  {
   "cell_type": "code",
   "execution_count": 185,
   "id": "5165de9b",
   "metadata": {},
   "outputs": [],
   "source": [
    "def get_KO_list(input_file):\n",
    "    dataframe = pd.read_csv(input_file,sep='\\t')\n",
    "    KO_list = dataframe['feature'].values.tolist()\n",
    "    return(KO_list)"
   ]
  },
  {
   "cell_type": "code",
   "execution_count": 188,
   "id": "4983cd3a",
   "metadata": {},
   "outputs": [
    {
     "name": "stdout",
     "output_type": "stream",
     "text": [
      "Enter your path and name of the input .tsv file: /Users/danielcm/Desktop/Sycuro/Projects/Diabetes/picrust2/picrust_july2024/local_output_run/KO_metagenome_out/maaslin2_results_local_tss_log2_sex_KOs/all_results.tsv\n"
     ]
    }
   ],
   "source": [
    "input_file=input(\"Enter your path and name of the input .tsv file: \")"
   ]
  },
  {
   "cell_type": "code",
   "execution_count": 189,
   "id": "e5e28b87",
   "metadata": {},
   "outputs": [
    {
     "name": "stdout",
     "output_type": "stream",
     "text": [
      "Enter your path and name of the output .txt file: /Users/danielcm/Desktop/Sycuro/Projects/Diabetes/picrust2/picrust_july2024/local_output_run/KO_metagenome_out/maaslin2_results_local_tss_log2_sex_KOs/brite_classification.txt\n"
     ]
    }
   ],
   "source": [
    "output_file = input(\"Enter your path and name of the output .txt file: \")\n",
    "KO_list = get_KO_list(input_file)\n",
    "dataframe = get_ko_brite_hierarchy(KO_list, input_file)\n",
    "dataframe.to_csv(output_file,sep='\\t')"
   ]
  },
  {
   "cell_type": "code",
   "execution_count": null,
   "id": "1902fd74",
   "metadata": {},
   "outputs": [],
   "source": []
  }
 ],
 "metadata": {
  "kernelspec": {
   "display_name": "Python 3 (ipykernel)",
   "language": "python",
   "name": "python3"
  },
  "language_info": {
   "codemirror_mode": {
    "name": "ipython",
    "version": 3
   },
   "file_extension": ".py",
   "mimetype": "text/x-python",
   "name": "python",
   "nbconvert_exporter": "python",
   "pygments_lexer": "ipython3",
   "version": "3.11.5"
  }
 },
 "nbformat": 4,
 "nbformat_minor": 5
}
