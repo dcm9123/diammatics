{
 "cells": [
  {
   "cell_type": "code",
   "execution_count": 1,
   "id": "23584dd4",
   "metadata": {},
   "outputs": [],
   "source": [
    "#Daniel Castaneda Mogollon, PhD\n",
    "#January 20, 2025\n",
    "#This script was generated to compare the w5w6 and w9w10 data, take the ASVs that were not identified at the\n",
    "# species level (Vsearch 99.3%) or at the genus level (DADA2 97%) in the local database (my full-length 16S Sanger\n",
    "#+ 16S WGS) and retrieved from the GTDB from FemMicro16S to see if I have external contaminants."
   ]
  },
  {
   "cell_type": "code",
   "execution_count": 2,
   "id": "92b65067",
   "metadata": {},
   "outputs": [],
   "source": [
    "import pandas as pd"
   ]
  },
  {
   "cell_type": "code",
   "execution_count": 40,
   "id": "4e38bfd4",
   "metadata": {},
   "outputs": [
    {
     "data": {
      "text/html": [
       "<div>\n",
       "<style scoped>\n",
       "    .dataframe tbody tr th:only-of-type {\n",
       "        vertical-align: middle;\n",
       "    }\n",
       "\n",
       "    .dataframe tbody tr th {\n",
       "        vertical-align: top;\n",
       "    }\n",
       "\n",
       "    .dataframe thead th {\n",
       "        text-align: right;\n",
       "    }\n",
       "</style>\n",
       "<table border=\"1\" class=\"dataframe\">\n",
       "  <thead>\n",
       "    <tr style=\"text-align: right;\">\n",
       "      <th></th>\n",
       "      <th>Unnamed: 0</th>\n",
       "      <th>ASV_ID</th>\n",
       "    </tr>\n",
       "  </thead>\n",
       "  <tbody>\n",
       "    <tr>\n",
       "      <th>0</th>\n",
       "      <td>213</td>\n",
       "      <td>ASV_214</td>\n",
       "    </tr>\n",
       "    <tr>\n",
       "      <th>1</th>\n",
       "      <td>383</td>\n",
       "      <td>ASV_384</td>\n",
       "    </tr>\n",
       "    <tr>\n",
       "      <th>2</th>\n",
       "      <td>433</td>\n",
       "      <td>ASV_434</td>\n",
       "    </tr>\n",
       "    <tr>\n",
       "      <th>3</th>\n",
       "      <td>473</td>\n",
       "      <td>ASV_474</td>\n",
       "    </tr>\n",
       "    <tr>\n",
       "      <th>4</th>\n",
       "      <td>512</td>\n",
       "      <td>ASV_513</td>\n",
       "    </tr>\n",
       "    <tr>\n",
       "      <th>...</th>\n",
       "      <td>...</td>\n",
       "      <td>...</td>\n",
       "    </tr>\n",
       "    <tr>\n",
       "      <th>80</th>\n",
       "      <td>1997</td>\n",
       "      <td>ASV_1998</td>\n",
       "    </tr>\n",
       "    <tr>\n",
       "      <th>81</th>\n",
       "      <td>1998</td>\n",
       "      <td>ASV_1999</td>\n",
       "    </tr>\n",
       "    <tr>\n",
       "      <th>82</th>\n",
       "      <td>1993</td>\n",
       "      <td>ASV_1994</td>\n",
       "    </tr>\n",
       "    <tr>\n",
       "      <th>83</th>\n",
       "      <td>2022</td>\n",
       "      <td>ASV_2023</td>\n",
       "    </tr>\n",
       "    <tr>\n",
       "      <th>84</th>\n",
       "      <td>2024</td>\n",
       "      <td>ASV_2025</td>\n",
       "    </tr>\n",
       "  </tbody>\n",
       "</table>\n",
       "<p>85 rows × 2 columns</p>\n",
       "</div>"
      ],
      "text/plain": [
       "    Unnamed: 0    ASV_ID\n",
       "0          213   ASV_214\n",
       "1          383   ASV_384\n",
       "2          433   ASV_434\n",
       "3          473   ASV_474\n",
       "4          512   ASV_513\n",
       "..         ...       ...\n",
       "80        1997  ASV_1998\n",
       "81        1998  ASV_1999\n",
       "82        1993  ASV_1994\n",
       "83        2022  ASV_2023\n",
       "84        2024  ASV_2025\n",
       "\n",
       "[85 rows x 2 columns]"
      ]
     },
     "execution_count": 40,
     "metadata": {},
     "output_type": "execute_result"
    }
   ],
   "source": [
    "#This section reads the local file of unidentified asvs and the femmicro file\n",
    "df_w9 = pd.read_csv(\"unidentified_asvs_by_dada2_and_vsearch_w9w10.csv\")\n",
    "df_w9_femmicro = pd.read_csv(\"../FemMicro16S/femmicro_output_w9w10/vsearch_dada2_gtdb_ure_merged.tsv\",sep='\\t') #Had to manually add the ASV_ID Column\n",
    "df_w9_list = df_w9['ASV_ID'].tolist()\n",
    "df_w9_femmicro_list = df_w9_femmicro['asv_num'].tolist()"
   ]
  },
  {
   "cell_type": "code",
   "execution_count": 62,
   "id": "ab0674b3",
   "metadata": {},
   "outputs": [],
   "source": [
    "#This section creates a list of indices of the unidentified asvs in my local db output file (vsearch + dada2)\n",
    "index_list=[]\n",
    "for items in df_w9_list:\n",
    "    if items in df_w9_femmicro_list:\n",
    "        items_index = df_w9_femmicro_list.index(items)\n",
    "        index_list.append(items_index)"
   ]
  },
  {
   "cell_type": "code",
   "execution_count": 70,
   "id": "9ed5e896",
   "metadata": {},
   "outputs": [],
   "source": [
    "#This section takes five columns of the femmicro output file for taxonomy and subsets the asvs not identified by\n",
    "#my local database for me to analyze, then it writes it in an output file\n",
    "filtered_df = df_w9_femmicro.iloc[index_list]\n",
    "filtered_df = filtered_df[['asv_num','genus_final','database_final','package','database_vsearch']]\n",
    "femmicro_genus = filtered_df['genus_final'].tolist()\n",
    "femmicro_genus = list(set(femmicro_genus))\n",
    "filtered_df.to_csv('femmicro_identified_asvs_not_found_in_local.csv')\n"
   ]
  },
  {
   "cell_type": "code",
   "execution_count": 73,
   "id": "f5104e69",
   "metadata": {},
   "outputs": [],
   "source": [
    "#This section takes the filtered master file for downstream selection, and then it filters by genus from GTDBtk pplacer\n",
    "#Then it saves it into a list with unique genera (no repetitions)\n",
    "master_unique_genus_list = []\n",
    "master_file = pd.read_csv(\"../WGS_all_runs/FINAL_report_WGS021224.csv\")\n",
    "master_file_filtered = master_file.loc[master_file['Selected for Downstream']=='Yes',['Classification']]\n",
    "master_taxa_list = master_file_filtered['Classification'].tolist()\n",
    "for items in master_taxa_list:\n",
    "    items = items.split(\"g__\")[1]\n",
    "    items = items.split(\";\")[0]\n",
    "    master_unique_genus_list.append(items)\n",
    "master_unique_genus_list = list(set(unique_genus_list))"
   ]
  },
  {
   "cell_type": "code",
   "execution_count": 74,
   "id": "91f782b0",
   "metadata": {},
   "outputs": [
    {
     "name": "stdout",
     "output_type": "stream",
     "text": [
      "Clostridium_P\n",
      "Prevotella\n",
      "Hungatella_A\n",
      "nan\n"
     ]
    }
   ],
   "source": [
    "#This section prints the genus that was identified in FemMicro16S of the ASVs not found locally (dada2 + vsearch)\n",
    "#and that were not present in the Master file with the latest nomenclature system (r220):\n",
    "for item in femmicro_genus:\n",
    "    if item not in master_unique_genus_list:\n",
    "        print(item)"
   ]
  },
  {
   "cell_type": "code",
   "execution_count": 95,
   "id": "90fd30b1",
   "metadata": {},
   "outputs": [],
   "source": [
    "#This section takes the Prevotella assignment from the original FemMicro16S output, and filters by Prevotella. \n",
    "#Then, I look at the ASVs assigned to Prevotella and retrieve them from the vsearch local output, where 85 were\n",
    "#assigned to Phocaeicola vulgatus\n",
    "index_prevotella_list=[]\n",
    "df_w9_femmicro_filtered = df_w9_femmicro[['asv_num','genus_final']]\n",
    "df_w9_femmicro_filtered_prevotella = df_w9_femmicro.loc[df_w9_femmicro['genus_final']=='Prevotella',['asv_num','genus_final']]\n",
    "df_w9_femmicro_filtered_prevotella_list = df_w9_femmicro_filtered_prevotella['asv_num'].tolist()\n",
    "df_local_vsearch = pd.read_csv(\"output/vsearch_taxonomy_w9w10_output_993.tsv\",sep='\\t')\n",
    "#print(df_local_vsearch)\n",
    "df_local_vsearch_asv_list = df_local_vsearch['asv_id'].tolist()\n",
    "for items in df_w9_femmicro_filtered_prevotella_list:\n",
    "    if items in df_local_vsearch_asv_list:\n",
    "        index_prevotella_list.append(df_local_vsearch_asv_list.index(items))\n",
    "vsearch_prevotella = df_local_vsearch.iloc[index_prevotella_list]\n",
    "vsearch_prevotella.to_csv(\"output/prevotella_genus_by_femmicro_w9.csv\")"
   ]
  },
  {
   "cell_type": "code",
   "execution_count": 102,
   "id": "147cd6f7",
   "metadata": {},
   "outputs": [],
   "source": [
    "index_prevotella_list_dada2=[]\n",
    "df_local_dada2= pd.read_csv('output/dada2_assignTaxonomy_w9w10_rdp.csv')\n",
    "df_local_dada2_asv_list = df_local_dada2['ASV_ID'].tolist()\n",
    "for items in df_w9_femmicro_filtered_prevotella_list:\n",
    "    if items in df_local_dada2_asv_list:\n",
    "        index_prevotella_list_dada2.append(df_local_dada2_asv_list.index(items))\n",
    "dada2_prevotella = df_local_dada2.iloc[index_prevotella_list_dada2]\n",
    "dada2_prevotella.to_csv(\"output/prevotella_genus_by_dada2_local_w9.csv\")"
   ]
  },
  {
   "cell_type": "code",
   "execution_count": null,
   "id": "6e352879",
   "metadata": {},
   "outputs": [],
   "source": []
  }
 ],
 "metadata": {
  "kernelspec": {
   "display_name": "Python 3 (ipykernel)",
   "language": "python",
   "name": "python3"
  },
  "language_info": {
   "codemirror_mode": {
    "name": "ipython",
    "version": 3
   },
   "file_extension": ".py",
   "mimetype": "text/x-python",
   "name": "python",
   "nbconvert_exporter": "python",
   "pygments_lexer": "ipython3",
   "version": "3.11.5"
  }
 },
 "nbformat": 4,
 "nbformat_minor": 5
}
