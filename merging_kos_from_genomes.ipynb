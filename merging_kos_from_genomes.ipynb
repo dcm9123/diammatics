{
 "cells": [
  {
   "cell_type": "code",
   "execution_count": 143,
   "id": "79f82973",
   "metadata": {},
   "outputs": [],
   "source": [
    "#Daniel Castaneda Mogollon\n",
    "#January 7th, 2025\n",
    "#This script was designed to take unique KOfams (or other, Kegg Brite, COG20, etc) per genome from an exported\n",
    "#table from anvio, and then count the number of instances found across each genome so it could be inputted into\n",
    "#DESeq2 for further analysis"
   ]
  },
  {
   "cell_type": "code",
   "execution_count": 147,
   "id": "c1ef9032",
   "metadata": {},
   "outputs": [],
   "source": [
    "import pandas as pd\n",
    "import os \n",
    "import glob"
   ]
  },
  {
   "cell_type": "code",
   "execution_count": 148,
   "id": "08c54ec7",
   "metadata": {},
   "outputs": [],
   "source": [
    "def counting_kos(file_to_read,annotation):\n",
    "    file = pd.read_csv(file_to_read,sep=\"\\t\")\n",
    "    df_kofams = file.loc[file['source']==annotation]\n",
    "    df_kofams_accession = df_kofams[['accession']]\n",
    "    df_kofams_accession = df_kofams_accession.sort_values('accession')\n",
    "    #df_kofams_accession\n",
    "    unique_kofams = df_kofams['accession'].unique()\n",
    "    #multiple_kofams = df_kofams_accession[df_kofams_accession.duplicated(['accession'], keep=False)]\n",
    "    name = file_to_read.split(\"-\")[0]\n",
    "    df_kofams_accession[name] = df_kofams_accession['accession'].map(df_kofams_accession['accession'].value_counts())\n",
    "    df_kofams_final = df_kofams_accession.drop_duplicates(subset='accession')\n",
    "    df_kofams_final.to_csv(name+\"_count.csv\", index=False)\n",
    "    #df_kofams_final\n"
   ]
  },
  {
   "cell_type": "code",
   "execution_count": 149,
   "id": "349bcfc4",
   "metadata": {},
   "outputs": [],
   "source": [
    "def main():\n",
    "    for file in glob.glob(\"*_table_genes.txt\"):\n",
    "        counting_kos(file,\"KOfam\")"
   ]
  },
  {
   "cell_type": "code",
   "execution_count": 150,
   "id": "f9362ccb",
   "metadata": {},
   "outputs": [],
   "source": [
    "main()"
   ]
  },
  {
   "cell_type": "code",
   "execution_count": null,
   "id": "1a8c35f5",
   "metadata": {},
   "outputs": [],
   "source": []
  }
 ],
 "metadata": {
  "kernelspec": {
   "display_name": "Python 3 (ipykernel)",
   "language": "python",
   "name": "python3"
  },
  "language_info": {
   "codemirror_mode": {
    "name": "ipython",
    "version": 3
   },
   "file_extension": ".py",
   "mimetype": "text/x-python",
   "name": "python",
   "nbconvert_exporter": "python",
   "pygments_lexer": "ipython3",
   "version": "3.11.5"
  }
 },
 "nbformat": 4,
 "nbformat_minor": 5
}
