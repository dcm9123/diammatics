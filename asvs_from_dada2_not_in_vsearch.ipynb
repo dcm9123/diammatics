{
 "cells": [
  {
   "cell_type": "code",
   "execution_count": 2,
   "id": "13f7cafa",
   "metadata": {},
   "outputs": [],
   "source": [
    "#Daniel Castaneda Mogollon, PhD\n",
    "#January 16th, 2025\n",
    "#This script takes the ASVs not recognized by VSearch (99.3%) and fetches them from DADA2 to look at their genus \n",
    "#and species."
   ]
  },
  {
   "cell_type": "code",
   "execution_count": 3,
   "id": "31c7c757",
   "metadata": {},
   "outputs": [],
   "source": [
    "import os\n",
    "import pandas as pd"
   ]
  },
  {
   "cell_type": "code",
   "execution_count": 11,
   "id": "9aa8d973",
   "metadata": {},
   "outputs": [],
   "source": [
    "#I manually added column names to the vsearch file\n",
    "#Fetching the unidentified ASVs by VSearch\n",
    "df_vsearch = pd.read_csv(\"output/vsearch_taxonomy_output_raw.tsv\", sep='\\t')\n",
    "unidentified_asvs = df_vsearch.loc[df_vsearch['taxonomy']=='*',['asv_id','taxonomy']]\n",
    "unidentified_asvs_list = unidentified_asvs['asv_id'].tolist()"
   ]
  },
  {
   "cell_type": "code",
   "execution_count": 35,
   "id": "4d0b2775",
   "metadata": {},
   "outputs": [],
   "source": [
    "#Fetching the corresponding DADA2 IDs\n",
    "matching_rows =[]\n",
    "df_dada2 = pd.read_csv(\"output/dada2_assignTaxonomy_w5w6_rdp.csv\")\n",
    "dada2_asv_id = df_dada2['ASV_ID'].tolist()\n",
    "for item in unidentified_asvs_list:\n",
    "    if item in dada2_asv_id:\n",
    "        index = dada2_asv_id.index(item)\n",
    "        matching_rows.append(df_dada2.iloc[index])\n",
    "\n",
    "other_asvs = pd.DataFrame(matching_rows)"
   ]
  },
  {
   "cell_type": "code",
   "execution_count": 37,
   "id": "88d56241",
   "metadata": {},
   "outputs": [],
   "source": [
    "other_asvs.to_csv('filtered_dada2_asvs.csv')"
   ]
  },
  {
   "cell_type": "code",
   "execution_count": null,
   "id": "43117f4c",
   "metadata": {},
   "outputs": [],
   "source": []
  }
 ],
 "metadata": {
  "kernelspec": {
   "display_name": "Python 3 (ipykernel)",
   "language": "python",
   "name": "python3"
  },
  "language_info": {
   "codemirror_mode": {
    "name": "ipython",
    "version": 3
   },
   "file_extension": ".py",
   "mimetype": "text/x-python",
   "name": "python",
   "nbconvert_exporter": "python",
   "pygments_lexer": "ipython3",
   "version": "3.11.5"
  }
 },
 "nbformat": 4,
 "nbformat_minor": 5
}
