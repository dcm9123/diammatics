{
 "cells": [
  {
   "cell_type": "code",
   "execution_count": 1,
   "id": "8897dd88-ee86-455f-aff2-472b6231fcc2",
   "metadata": {
    "tags": []
   },
   "outputs": [],
   "source": [
    "#importing packages\n",
    "import os\n",
    "import pandas as pd\n"
   ]
  },
  {
   "cell_type": "code",
   "execution_count": 3,
   "id": "79d4a8cc-810b-4adc-83ab-51f78653ad83",
   "metadata": {
    "tags": []
   },
   "outputs": [],
   "source": [
    "#This is the first function of this code. The input MUST be a path that contains ONLY files in a three string character, i.e. 044, 017, 113, 002 (no.tsv\n",
    "#extension): Try:\n",
    "#for file in *; do basename=$(echo $file | cut -d \"_\" -f 4); mv $file $basename; done;\n",
    "#for file in *; do basename=$(echo $file | cut -d \".\" -f 1; mv $file $basename; done;\n",
    "#Also make sure that the first five lines of the eggnog file are gone!\n",
    "#for file in *; do sed -n '6,$p' $file > tmp/$file; done;\n",
    "\n",
    "def adding_sample_name(my_path):\n",
    "    os.chdir(my_path)\n",
    "    for file in os.listdir(my_path):\n",
    "        open_file = pd.read_table(file)\n",
    "        sample_name = file[:3]\n",
    "        open_file['sample_name'] = sample_name\n",
    "        open_file['sample_name'] = open_file['sample_name'].astype(str)\n",
    "        open_file.to_csv(str(file)+\"_added\",sep='\\t', index=False)\n",
    "        \n",
    "#This function adds the sample name (three characters which are digits corresponding to the sample name)\n",
    "#to the eggnog.tsv file"
   ]
  },
  {
   "cell_type": "code",
   "execution_count": 4,
   "id": "0594ad0f-19f4-4b3e-98d5-15f53bf211ca",
   "metadata": {
    "tags": []
   },
   "outputs": [],
   "source": [
    "def removing_last_three_rows(my_path):\n",
    "    os.chdir(my_path)\n",
    "    for file in os.listdir(my_path):\n",
    "        if file.endswith(\"_added\"):\n",
    "            dtype_mapping = {'sample_name':str}\n",
    "            open_file = pd.read_table(file, dtype=dtype_mapping)\n",
    "            df = open_file.iloc[:-3]\n",
    "            df.to_csv(str(file)+\"_tailed\",sep='\\t',index=False)\n",
    "#This function removes the last three rows from the eggnog sheet, which corresponds to the time and query\n",
    "#ran by eggnog."
   ]
  },
  {
   "cell_type": "code",
   "execution_count": 5,
   "id": "a786fb17-16e9-4049-8b6c-b0e4d7730179",
   "metadata": {
    "tags": []
   },
   "outputs": [],
   "source": [
    "def subsetting(my_path):\n",
    "    for file in os.listdir(my_path):\n",
    "        if file.endswith(\"_tailed\"):\n",
    "            dtype_mapping = {'sample_name':str}\n",
    "            df = pd.read_table(file, dtype = dtype_mapping)\n",
    "            new_df = df.iloc[:,[11,21]]#Change to 10 for EC, and 11 for KO\n",
    "            new_df2 = df.iloc[:,[10,21]]#Change to 10 for EC, and 11 for KO\n",
    "            new_df.to_csv(str(file)+\"_cut_KO\",sep='\\t',index=False) #Change name for EC or KO\n",
    "            new_df2.to_csv(str(file)+\"_cut_EC\",sep='\\t',index=False)\n",
    "\n",
    "#This function only takes the eleventh column and 21st column (Eleventh belongs to KO, \n",
    "#and 21st belongs to sample number just added). If wanted to change to EC, then select 10th column"
   ]
  },
  {
   "cell_type": "code",
   "execution_count": 6,
   "id": "666147a3-1c6f-4d14-ac19-e45c135aeb25",
   "metadata": {
    "tags": []
   },
   "outputs": [],
   "source": [
    "def replacing_dashed(my_path):\n",
    "    for file in os.listdir(my_path):\n",
    "        if file.endswith(\"_cut_KO\"):\n",
    "            dtype_mapping = {'sample_name':str}\n",
    "            open_file = pd.read_table(file, dtype = dtype_mapping)\n",
    "            open_file['KEGG_ko'] = open_file['KEGG_ko'].replace(\"-\",\"NA\") #replaces dashes with NA\n",
    "            open_file['KEGG_ko'] = open_file['KEGG_ko'].str.replace(\"ko:\",\"\") #removes 'ko' and leaves the KO###### number needed for picrust2\n",
    "            open_file.to_csv(str(file)+\"_replaced_KO\",sep='\\t',index=False, header=False)\n",
    "        elif file.endswith(\"_cut_EC\"):\n",
    "            open_file = pd.read_table(file, dtype = dtype_mapping)\n",
    "            open_file['EC'] = open_file['EC'].replace(\"-\",\"NA\") #replaces dashes with NA\n",
    "            open_file.to_csv(str(file)+\"_replaced_EC\",sep='\\t',index=False, header=False)"
   ]
  },
  {
   "cell_type": "code",
   "execution_count": 7,
   "id": "8ba702c7-8df6-4994-acc9-d11fc5a7d0a4",
   "metadata": {
    "tags": []
   },
   "outputs": [],
   "source": [
    "#In here, I did in unix: 'for file in *_replaced; do cat $file >> final_merged.tsv; done\n",
    "#The pandas command to merge did not work for me, and it was making a mess"
   ]
  },
  {
   "cell_type": "code",
   "execution_count": 8,
   "id": "e37d5b13-2bc5-4c4c-86d4-6f94af881460",
   "metadata": {
    "tags": []
   },
   "outputs": [],
   "source": [
    "def delete_rows(file_KO,file_EC):\n",
    "    dtype_mapping = {1:str}\n",
    "    df = pd.read_table(file_KO, dtype = dtype_mapping)\n",
    "    df2 = pd.read_table(file_EC, dtype = dtype_mapping)\n",
    "    df_clean = df.dropna()\n",
    "    df_clean2 = df2.dropna()\n",
    "    df_clean.to_csv(str(file_KO),sep='\\t', index=False, header=False)\n",
    "    df_clean2.to_csv(str(file_EC), sep='\\t', index=False, header=False)"
   ]
  },
  {
   "cell_type": "code",
   "execution_count": 9,
   "id": "962a523b-0f2d-4168-af9c-4d6b2be17856",
   "metadata": {
    "tags": []
   },
   "outputs": [],
   "source": [
    "def getting_final_file(file):\n",
    "    dtype_mapping = {1:str} #makes sure to transformt the column of \"integers\" to strings.\n",
    "    df_clean = pd.read_table(file, dtype = dtype_mapping)\n",
    "    id_list=[]\n",
    "    ko_list=[]\n",
    "    id_list_tmp=[]\n",
    "    ko_list_tmp=[]\n",
    "    for item in df_clean.iloc[:,1]:\n",
    "        id_list.append(\"seq\"+str(item))\n",
    "    for item in df_clean.iloc[:,0]:\n",
    "        ko_list.append(item)\n",
    "    for num, item in zip(id_list, ko_list):\n",
    "        if ',' in item:\n",
    "            parts = item.split(\",\")\n",
    "            id_list_tmp.extend([num] * len(parts))\n",
    "            ko_list_tmp.extend(parts)\n",
    "        else:\n",
    "            id_list_tmp.append(num)\n",
    "            ko_list_tmp.append(item)\n",
    "    final_df = pd.crosstab(index = id_list_tmp, columns = ko_list_tmp)\n",
    "    if file.endswith(\"_KO.tsv\"):\n",
    "        final_df.to_csv(\"final_KO_list.tsv\", sep='\\t', index=True, header=True)\n",
    "    elif file.endswith(\"_EC.tsv\"):\n",
    "        final_df.to_csv(\"final_EC_list.tsv\", sep='\\t', index=True, header=True)\n",
    "\n"
   ]
  },
  {
   "cell_type": "code",
   "execution_count": 15,
   "id": "23f5e66c-33f9-414b-8be7-6de7d154e74d",
   "metadata": {
    "tags": []
   },
   "outputs": [],
   "source": [
    "def main():\n",
    "    #path = \"/Users/danielcm/Desktop/Sycuro/Projects/Diabetes/picrust2/eggnogs/metabolism_eggnog/raw_eggnogs/\"\n",
    "    #adding_sample_name(path)\n",
    "    #removing_last_three_rows(path)\n",
    "    #subsetting(path)\n",
    "    #replacing_dashed(path)\n",
    "    file_ko = \"/Users/danielcm/Desktop/Sycuro/Projects/Diabetes/picrust2/eggnogs/metabolism_eggnog/raw_eggnogs/merged_ko/merged_KO.tsv\"\n",
    "    file_ec = \"/Users/danielcm/Desktop/Sycuro/Projects/Diabetes/picrust2/eggnogs/metabolism_eggnog/raw_eggnogs/merged_ec/merged_EC.tsv\"\n",
    "    delete_rows(file_ko,file_ec)\n",
    "    getting_final_file(file_ko)\n",
    "    getting_final_file(file_ec)\n",
    "    #After this, just rename the very first cell to 'assembly' (I did this manually)"
   ]
  },
  {
   "cell_type": "code",
   "execution_count": 16,
   "id": "9866a36b-2c0a-41cd-b0f5-42a820547f54",
   "metadata": {
    "tags": []
   },
   "outputs": [],
   "source": [
    "main()"
   ]
  },
  {
   "cell_type": "code",
   "execution_count": null,
   "id": "3656516f-d47c-496f-baa6-33f4d71b5203",
   "metadata": {},
   "outputs": [],
   "source": [
    "#TO DO:\n",
    "#MAKE SURE THAT THE CODE IS FULLY AUTOMATED: ITS INPUT ARE EGGNOG FILES IN THREE DIGIT FORMAT AND OUTPUT IS FINAL FILE WITH THE 'ASSEMBLY'\n",
    "#WORD ON TOP. MAKE SURE YOU DON'T HAVE TO RUN ANY CODE IN BASH FOR IT TO WORK!"
   ]
  }
 ],
 "metadata": {
  "kernelspec": {
   "display_name": "Python 3 (ipykernel)",
   "language": "python",
   "name": "python3"
  },
  "language_info": {
   "codemirror_mode": {
    "name": "ipython",
    "version": 3
   },
   "file_extension": ".py",
   "mimetype": "text/x-python",
   "name": "python",
   "nbconvert_exporter": "python",
   "pygments_lexer": "ipython3",
   "version": "3.11.5"
  }
 },
 "nbformat": 4,
 "nbformat_minor": 5
}
