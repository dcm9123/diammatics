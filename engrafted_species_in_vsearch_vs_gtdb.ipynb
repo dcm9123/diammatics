{
 "cells": [
  {
   "cell_type": "code",
   "execution_count": 1,
   "id": "96de0c29",
   "metadata": {},
   "outputs": [],
   "source": [
    "#Daniel Castaneda Mogollon, PhD\n",
    "#January 17th, 2025\n",
    "#This code takes the number of species recognized by Vsearch in an output file and compares it against the master\n",
    "#file of the GTDB pplacer species, so it will tell me how many species were found from the original lavage"
   ]
  },
  {
   "cell_type": "code",
   "execution_count": 2,
   "id": "3348f770",
   "metadata": {},
   "outputs": [],
   "source": [
    "import pandas as pd"
   ]
  },
  {
   "cell_type": "code",
   "execution_count": 36,
   "id": "8201b363",
   "metadata": {},
   "outputs": [
    {
     "data": {
      "text/plain": [
       "52"
      ]
     },
     "execution_count": 36,
     "metadata": {},
     "output_type": "execute_result"
    }
   ],
   "source": [
    "#Getting the species from the master file after filtering and turning the column into a list\n",
    "master_file = pd.read_csv(\"../../WGS_all_runs/FINAL_report_WGS021224.csv\")\n",
    "master_file_filtered = master_file.loc[master_file['Selected for Downstream']=='Yes',['GTDBtk Species Classification (pplacer)']]\n",
    "gtdb_species = master_file_filtered['GTDBtk Species Classification (pplacer)'].tolist()\n",
    "gtdb_unique_species = list(set(gtdb_species))\n",
    "len(gtdb_unique_species) #52 unique species"
   ]
  },
  {
   "cell_type": "code",
   "execution_count": 39,
   "id": "18cd2c97",
   "metadata": {},
   "outputs": [
    {
     "name": "stdout",
     "output_type": "stream",
     "text": [
      "['Cytobacillus undefined', 'Streptococcus sp001556435', 'Bacillus subtilis', 'CHH4-2 sp018378255', 'Enterocloster sp005845215', 'Roseburia_C amylophila', 'Bifidobacterium dentium', 'Instestinimonas_A celer', 'Flavonifractor sp000508885', 'Bifidobacterium adolescentis', 'Staphylococcus epidermidis', 'Pseudoflavonifractor_A sp022772585', 'Bifidobacterium pseudocatenulatum']\n"
     ]
    }
   ],
   "source": [
    "vsearch_file = pd.read_csv(\"../vsearch_taxonomy_w9w10_output_993.tsv\", sep='\\t')\n",
    "vsearch_file_species = vsearch_file['taxonomy']\n",
    "vsearch_file_species_list = vsearch_file_species.tolist()\n",
    "updated_fixed_list = []\n",
    "for item in vsearch_file_species_list:\n",
    "    item = item.split(\"seq\")[0]\n",
    "    item = item.split(\"s__\")[1]\n",
    "    item = item[:-1]\n",
    "    updated_fixed_list.append(item)\n",
    "\n",
    "i=0\n",
    "taxa_not_engrafted=[]\n",
    "for items in gtdb_unique_species:\n",
    "    if items not in updated_fixed_list:\n",
    "        i = i+1\n",
    "        taxa_not_engrafted.append(items)\n",
    "len(taxa_not_engrafted)\n",
    "print(taxa_not_engrafted)"
   ]
  },
  {
   "cell_type": "code",
   "execution_count": null,
   "id": "fbeaab1d",
   "metadata": {},
   "outputs": [],
   "source": []
  }
 ],
 "metadata": {
  "kernelspec": {
   "display_name": "Python 3 (ipykernel)",
   "language": "python",
   "name": "python3"
  },
  "language_info": {
   "codemirror_mode": {
    "name": "ipython",
    "version": 3
   },
   "file_extension": ".py",
   "mimetype": "text/x-python",
   "name": "python",
   "nbconvert_exporter": "python",
   "pygments_lexer": "ipython3",
   "version": "3.11.5"
  }
 },
 "nbformat": 4,
 "nbformat_minor": 5
}
