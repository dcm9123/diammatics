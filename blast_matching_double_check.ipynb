{
 "cells": [
  {
   "cell_type": "code",
   "execution_count": 166,
   "id": "16c2862a",
   "metadata": {},
   "outputs": [],
   "source": [
    "import pandas as pd\n",
    "import os"
   ]
  },
  {
   "cell_type": "code",
   "execution_count": 167,
   "id": "bf23b160",
   "metadata": {},
   "outputs": [],
   "source": [
    "path = \"/Users/danielcm/Desktop/Sycuro/Projects/Diabetes/t1d_db_fixed_discussed/\"\n",
    "os.chdir(path)"
   ]
  },
  {
   "cell_type": "code",
   "execution_count": 216,
   "id": "83785a80",
   "metadata": {
    "scrolled": false
   },
   "outputs": [],
   "source": [
    "#This section makes a new file (and df) for every barrnap blast output with the necessary headers\n",
    "master_file = pd.read_csv(\"../WGS_all_runs/FINAL_report_WGS021224.csv\")\n",
    "subset_master_file = master_file[['Index','Sample ID','Consortia','Selected for Downstream',\n",
    "                    'Sanger classification (v3v4) Source','GTDBtk Species Classification (pplacer)']]\n",
    "input_file_path = path+\"barrnap_blast/\"\n",
    "for file in sorted(os.listdir(input_file_path)):\n",
    "    blast_file = pd.read_csv(input_file_path+file,header=None)\n",
    "    blast_file.columns = [\"Sequence ID\",\"Matched ID\",\"Bit score\",\"Score\",\"E-value\",\"% of identity\",\"Query coverage HSP\"]\n",
    "    number_of_16S = len(blast_file['Sequence ID'].unique())\n",
    "    blast_file['Number of 16S found'] = number_of_16S\n",
    "    filtered_blast_file = blast_file[(blast_file['% of identity']>=98.6) & (blast_file['E-value']<=1e-100)].copy() #Filtering by e-value and identity\n",
    "    blast_species = filtered_blast_file['Matched ID'].tolist()\n",
    "    matched_species = []\n",
    "    for item in blast_species:\n",
    "        split = item.split(\" \",1)\n",
    "        species_name = split[-1]\n",
    "        matched_species.append(species_name)\n",
    "    filtered_blast_file['Matched species'] = matched_species #All of them that were found at high quality\n",
    "    tmp_id_name = \"_\".join(file.split(\"_\")[3:7]).split(\".\",1)[0] #This assigns just the sample ID without the .csv or the 'prokka_blast' part\n",
    "    filtered_blast_file[\"Sample ID\"] = tmp_id_name\n",
    "    unique_species = filtered_blast_file[\"Matched species\"].unique() #This makes an array (or a list?) of unique species found by BLASTn\n",
    "    genus_list = []\n",
    "    for item in blast_species:\n",
    "        genus = item.split(\" \")[1]\n",
    "        genus_list.append(genus)\n",
    "    #print(genus_list)\n",
    "    filtered_blast_file['Matched genus'] = genus_list\n",
    "    unique_genus = filtered_blast_file[\"Matched genus\"].unique() #This makes a list of unique genus found by BLASTn\n",
    "    unique_species = list(unique_species)\n",
    "    unique_genus = list(unique_genus)\n",
    "    filtered_blast_file['Unique species'] = [unique_species]*len(filtered_blast_file)\n",
    "    filtered_blast_file['Unique genus'] = [unique_genus]*len(filtered_blast_file)\n",
    "    filtered_blast_file['No. of unique species'] = len(unique_species)\n",
    "    filtered_blast_file['No. of unique genera'] = len(unique_genus)\n",
    "    filtered_blast_file = filtered_blast_file[['Sample ID','Sequence ID','Matched ID','Bit score','Score','E-value','% of identity','Query coverage HSP','Number of 16S found',\n",
    "                          'Matched species','No. of unique species','Unique species','Matched genus','No. of unique genera','Unique genus']]\n",
    "    \n",
    "    filtered_blast_file.to_csv(tmp_id_name+\".csv\",sep=',')"
   ]
  },
  {
   "cell_type": "code",
   "execution_count": null,
   "id": "e8516c4b",
   "metadata": {},
   "outputs": [],
   "source": []
  },
  {
   "cell_type": "code",
   "execution_count": null,
   "id": "2c2cdf8a",
   "metadata": {},
   "outputs": [],
   "source": []
  },
  {
   "cell_type": "code",
   "execution_count": null,
   "id": "175c9cca",
   "metadata": {},
   "outputs": [],
   "source": []
  }
 ],
 "metadata": {
  "kernelspec": {
   "display_name": "Python 3 (ipykernel)",
   "language": "python",
   "name": "python3"
  },
  "language_info": {
   "codemirror_mode": {
    "name": "ipython",
    "version": 3
   },
   "file_extension": ".py",
   "mimetype": "text/x-python",
   "name": "python",
   "nbconvert_exporter": "python",
   "pygments_lexer": "ipython3",
   "version": "3.11.5"
  }
 },
 "nbformat": 4,
 "nbformat_minor": 5
}
